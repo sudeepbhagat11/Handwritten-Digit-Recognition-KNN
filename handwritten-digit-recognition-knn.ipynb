{
 "cells": [
  {
   "cell_type": "code",
   "execution_count": 1,
   "id": "b674a6c3",
   "metadata": {
    "_cell_guid": "b1076dfc-b9ad-4769-8c92-a6c4dae69d19",
    "_uuid": "8f2839f25d086af736a60e9eeb907d3b93b6e0e5",
    "execution": {
     "iopub.execute_input": "2024-05-31T07:03:02.543005Z",
     "iopub.status.busy": "2024-05-31T07:03:02.542629Z",
     "iopub.status.idle": "2024-05-31T07:03:03.342308Z",
     "shell.execute_reply": "2024-05-31T07:03:03.341277Z"
    },
    "papermill": {
     "duration": 0.807501,
     "end_time": "2024-05-31T07:03:03.344811",
     "exception": false,
     "start_time": "2024-05-31T07:03:02.537310",
     "status": "completed"
    },
    "tags": []
   },
   "outputs": [
    {
     "name": "stdout",
     "output_type": "stream",
     "text": [
      "/kaggle/input/handwritten-digit-recognition/data.csv\n"
     ]
    }
   ],
   "source": [
    "# This Python 3 environment comes with many helpful analytics libraries installed\n",
    "# It is defined by the kaggle/python Docker image: https://github.com/kaggle/docker-python\n",
    "# For example, here's several helpful packages to load\n",
    "\n",
    "import numpy as np # linear algebra\n",
    "import pandas as pd # data processing, CSV file I/O (e.g. pd.read_csv)\n",
    "\n",
    "# Input data files are available in the read-only \"../input/\" directory\n",
    "# For example, running this (by clicking run or pressing Shift+Enter) will list all files under the input directory\n",
    "\n",
    "import os\n",
    "for dirname, _, filenames in os.walk('/kaggle/input'):\n",
    "    for filename in filenames:\n",
    "        print(os.path.join(dirname, filename))\n",
    "\n",
    "# You can write up to 20GB to the current directory (/kaggle/working/) that gets preserved as output when you create a version using \"Save & Run All\" \n",
    "# You can also write temporary files to /kaggle/temp/, but they won't be saved outside of the current session"
   ]
  },
  {
   "cell_type": "code",
   "execution_count": 2,
   "id": "c30bc309",
   "metadata": {
    "execution": {
     "iopub.execute_input": "2024-05-31T07:03:03.353596Z",
     "iopub.status.busy": "2024-05-31T07:03:03.353152Z",
     "iopub.status.idle": "2024-05-31T07:03:06.835175Z",
     "shell.execute_reply": "2024-05-31T07:03:06.834063Z"
    },
    "papermill": {
     "duration": 3.488721,
     "end_time": "2024-05-31T07:03:06.837357",
     "exception": false,
     "start_time": "2024-05-31T07:03:03.348636",
     "status": "completed"
    },
    "tags": []
   },
   "outputs": [
    {
     "name": "stdout",
     "output_type": "stream",
     "text": [
      "['handwritten-digit-recognition']\n",
      "   label  pixel0  pixel1  pixel2  pixel3  pixel4  pixel5  pixel6  pixel7  \\\n",
      "0      1       0       0       0       0       0       0       0       0   \n",
      "1      0       0       0       0       0       0       0       0       0   \n",
      "2      1       0       0       0       0       0       0       0       0   \n",
      "3      4       0       0       0       0       0       0       0       0   \n",
      "4      0       0       0       0       0       0       0       0       0   \n",
      "\n",
      "   pixel8  ...  pixel774  pixel775  pixel776  pixel777  pixel778  pixel779  \\\n",
      "0       0  ...         0         0         0         0         0         0   \n",
      "1       0  ...         0         0         0         0         0         0   \n",
      "2       0  ...         0         0         0         0         0         0   \n",
      "3       0  ...         0         0         0         0         0         0   \n",
      "4       0  ...         0         0         0         0         0         0   \n",
      "\n",
      "   pixel780  pixel781  pixel782  pixel783  \n",
      "0         0         0         0         0  \n",
      "1         0         0         0         0  \n",
      "2         0         0         0         0  \n",
      "3         0         0         0         0  \n",
      "4         0         0         0         0  \n",
      "\n",
      "[5 rows x 785 columns]\n"
     ]
    },
    {
     "data": {
      "text/plain": [
       "(42000, 785)"
      ]
     },
     "execution_count": 2,
     "metadata": {},
     "output_type": "execute_result"
    }
   ],
   "source": [
    "import pandas as pd\n",
    "import numpy as np\n",
    "import os\n",
    "\n",
    "# List the files in the current directory to confirm\n",
    "print(os.listdir('/kaggle/input'))\n",
    "\n",
    "\n",
    "data = pd.read_csv('/kaggle/input/handwritten-digit-recognition/data.csv')\n",
    "\n",
    "df = pd.DataFrame(data)\n",
    "print(df.head())\n",
    "df.shape"
   ]
  },
  {
   "cell_type": "code",
   "execution_count": 3,
   "id": "ce887155",
   "metadata": {
    "execution": {
     "iopub.execute_input": "2024-05-31T07:03:06.846534Z",
     "iopub.status.busy": "2024-05-31T07:03:06.845853Z",
     "iopub.status.idle": "2024-05-31T07:03:06.959656Z",
     "shell.execute_reply": "2024-05-31T07:03:06.958804Z"
    },
    "papermill": {
     "duration": 0.121097,
     "end_time": "2024-05-31T07:03:06.962247",
     "exception": false,
     "start_time": "2024-05-31T07:03:06.841150",
     "status": "completed"
    },
    "tags": []
   },
   "outputs": [],
   "source": [
    "y=df['label']\n",
    "x=df.drop('label',axis=1)"
   ]
  },
  {
   "cell_type": "code",
   "execution_count": 4,
   "id": "2a0774aa",
   "metadata": {
    "execution": {
     "iopub.execute_input": "2024-05-31T07:03:06.971767Z",
     "iopub.status.busy": "2024-05-31T07:03:06.971093Z",
     "iopub.status.idle": "2024-05-31T07:03:07.216949Z",
     "shell.execute_reply": "2024-05-31T07:03:07.215861Z"
    },
    "papermill": {
     "duration": 0.253173,
     "end_time": "2024-05-31T07:03:07.219264",
     "exception": false,
     "start_time": "2024-05-31T07:03:06.966091",
     "status": "completed"
    },
    "tags": []
   },
   "outputs": [
    {
     "name": "stdout",
     "output_type": "stream",
     "text": [
      "6\n"
     ]
    },
    {
     "data": {
      "image/png": "[encoded data removed]",
      "text/plain": [
       "<Figure size 700x700 with 1 Axes>"
      ]
     },
     "metadata": {},
     "output_type": "display_data"
    }
   ],
   "source": [
    "import matplotlib.pyplot as plt\n",
    "\n",
    "plt.figure(figsize=(7,7))\n",
    "some_digit=1266\n",
    "some_digit_image = x.iloc[some_digit].to_numpy()\n",
    "plt.imshow(np.reshape(some_digit_image, (28,28)))\n",
    "print(y[some_digit])"
   ]
  },
  {
   "cell_type": "code",
   "execution_count": 5,
   "id": "b64e647a",
   "metadata": {
    "execution": {
     "iopub.execute_input": "2024-05-31T07:03:07.229231Z",
     "iopub.status.busy": "2024-05-31T07:03:07.228829Z",
     "iopub.status.idle": "2024-05-31T07:03:08.641459Z",
     "shell.execute_reply": "2024-05-31T07:03:08.640214Z"
    },
    "papermill": {
     "duration": 1.420364,
     "end_time": "2024-05-31T07:03:08.643941",
     "exception": false,
     "start_time": "2024-05-31T07:03:07.223577",
     "status": "completed"
    },
    "tags": []
   },
   "outputs": [
    {
     "data": {
      "text/plain": [
       "<Axes: xlabel='label', ylabel='count'>"
      ]
     },
     "execution_count": 5,
     "metadata": {},
     "output_type": "execute_result"
    },
    {
     "data": {
      "image/png": "[encoded data removed]",
      "text/plain": [
       "<Figure size 640x480 with 1 Axes>"
      ]
     },
     "metadata": {},
     "output_type": "display_data"
    }
   ],
   "source": [
    "import seaborn as sns\n",
    "\n",
    "sns.countplot( x='label', data=df) "
   ]
  },
  {
   "cell_type": "code",
   "execution_count": 6,
   "id": "41ac845c",
   "metadata": {
    "execution": {
     "iopub.execute_input": "2024-05-31T07:03:08.655063Z",
     "iopub.status.busy": "2024-05-31T07:03:08.654152Z",
     "iopub.status.idle": "2024-05-31T07:03:09.158834Z",
     "shell.execute_reply": "2024-05-31T07:03:09.157685Z"
    },
    "papermill": {
     "duration": 0.51316,
     "end_time": "2024-05-31T07:03:09.161611",
     "exception": false,
     "start_time": "2024-05-31T07:03:08.648451",
     "status": "completed"
    },
    "tags": []
   },
   "outputs": [],
   "source": [
    "from sklearn.model_selection import  train_test_split\n",
    "x_train, x_test, y_train, y_test = train_test_split(x, y, test_size = 0.30, random_state = 40)"
   ]
  },
  {
   "cell_type": "code",
   "execution_count": 7,
   "id": "3d451aaf",
   "metadata": {
    "execution": {
     "iopub.execute_input": "2024-05-31T07:03:09.172933Z",
     "iopub.status.busy": "2024-05-31T07:03:09.171989Z",
     "iopub.status.idle": "2024-05-31T07:03:09.178919Z",
     "shell.execute_reply": "2024-05-31T07:03:09.177902Z"
    },
    "papermill": {
     "duration": 0.014637,
     "end_time": "2024-05-31T07:03:09.180901",
     "exception": false,
     "start_time": "2024-05-31T07:03:09.166264",
     "status": "completed"
    },
    "tags": []
   },
   "outputs": [
    {
     "data": {
      "text/plain": [
       "((29400, 784), (29400,), (12600, 784), (12600,))"
      ]
     },
     "execution_count": 7,
     "metadata": {},
     "output_type": "execute_result"
    }
   ],
   "source": [
    "x_train.shape,y_train.shape,x_test.shape,y_test.shape"
   ]
  },
  {
   "cell_type": "code",
   "execution_count": 8,
   "id": "d380c70b",
   "metadata": {
    "execution": {
     "iopub.execute_input": "2024-05-31T07:03:09.191296Z",
     "iopub.status.busy": "2024-05-31T07:03:09.190913Z",
     "iopub.status.idle": "2024-05-31T07:03:24.016687Z",
     "shell.execute_reply": "2024-05-31T07:03:24.015681Z"
    },
    "papermill": {
     "duration": 14.833588,
     "end_time": "2024-05-31T07:03:24.018977",
     "exception": false,
     "start_time": "2024-05-31T07:03:09.185389",
     "status": "completed"
    },
    "tags": []
   },
   "outputs": [
    {
     "data": {
      "text/plain": [
       "array([0, 2, 1, ..., 2, 4, 7])"
      ]
     },
     "execution_count": 8,
     "metadata": {},
     "output_type": "execute_result"
    }
   ],
   "source": [
    "from sklearn.neighbors import KNeighborsClassifier\n",
    "classifier = KNeighborsClassifier(n_neighbors = 3)\n",
    "classifier.fit(x_train, y_train)\n",
    "\n",
    "y_pred = classifier.predict(x_test)\n",
    "y_pred"
   ]
  },
  {
   "cell_type": "code",
   "execution_count": 9,
   "id": "365d533c",
   "metadata": {
    "execution": {
     "iopub.execute_input": "2024-05-31T07:03:24.030786Z",
     "iopub.status.busy": "2024-05-31T07:03:24.029743Z",
     "iopub.status.idle": "2024-05-31T07:03:24.037890Z",
     "shell.execute_reply": "2024-05-31T07:03:24.036637Z"
    },
    "papermill": {
     "duration": 0.016286,
     "end_time": "2024-05-31T07:03:24.040099",
     "exception": false,
     "start_time": "2024-05-31T07:03:24.023813",
     "status": "completed"
    },
    "tags": []
   },
   "outputs": [
    {
     "name": "stdout",
     "output_type": "stream",
     "text": [
      "0.9636507936507936\n"
     ]
    }
   ],
   "source": [
    "from sklearn.metrics import accuracy_score,classification_report,confusion_matrix\n",
    "print(accuracy_score(y_test, y_pred))"
   ]
  },
  {
   "cell_type": "code",
   "execution_count": 10,
   "id": "69ca06d2",
   "metadata": {
    "execution": {
     "iopub.execute_input": "2024-05-31T07:03:24.051115Z",
     "iopub.status.busy": "2024-05-31T07:03:24.050748Z",
     "iopub.status.idle": "2024-05-31T07:03:24.092744Z",
     "shell.execute_reply": "2024-05-31T07:03:24.091598Z"
    },
    "papermill": {
     "duration": 0.050359,
     "end_time": "2024-05-31T07:03:24.095229",
     "exception": false,
     "start_time": "2024-05-31T07:03:24.044870",
     "status": "completed"
    },
    "tags": []
   },
   "outputs": [
    {
     "name": "stdout",
     "output_type": "stream",
     "text": [
      "              precision    recall  f1-score   support\n",
      "\n",
      "           0       0.97      0.99      0.98      1236\n",
      "           1       0.96      1.00      0.98      1370\n",
      "           2       0.98      0.96      0.97      1252\n",
      "           3       0.95      0.96      0.95      1369\n",
      "           4       0.97      0.96      0.97      1215\n",
      "           5       0.95      0.95      0.95      1132\n",
      "           6       0.97      0.99      0.98      1216\n",
      "           7       0.96      0.96      0.96      1326\n",
      "           8       0.98      0.92      0.95      1197\n",
      "           9       0.94      0.94      0.94      1287\n",
      "\n",
      "    accuracy                           0.96     12600\n",
      "   macro avg       0.96      0.96      0.96     12600\n",
      "weighted avg       0.96      0.96      0.96     12600\n",
      "\n"
     ]
    }
   ],
   "source": [
    "print(classification_report(y_test, y_pred))"
   ]
  },
  {
   "cell_type": "code",
   "execution_count": 11,
   "id": "2b57a9e3",
   "metadata": {
    "execution": {
     "iopub.execute_input": "2024-05-31T07:03:24.106854Z",
     "iopub.status.busy": "2024-05-31T07:03:24.106448Z",
     "iopub.status.idle": "2024-05-31T07:03:24.116163Z",
     "shell.execute_reply": "2024-05-31T07:03:24.114893Z"
    },
    "papermill": {
     "duration": 0.018075,
     "end_time": "2024-05-31T07:03:24.118372",
     "exception": false,
     "start_time": "2024-05-31T07:03:24.100297",
     "status": "completed"
    },
    "tags": []
   },
   "outputs": [
    {
     "name": "stdout",
     "output_type": "stream",
     "text": [
      "[[1224    0    2    0    0    1    6    0    1    2]\n",
      " [   0 1364    0    0    0    0    2    2    1    1]\n",
      " [   5   10 1204    6    1    1    2   18    2    3]\n",
      " [   3    4    6 1315    0   22    1    7    9    2]\n",
      " [   2   12    1    0 1165    0    5    1    0   29]\n",
      " [   3    1    1   27    2 1075   16    0    2    5]\n",
      " [  10    1    0    0    1    3 1201    0    0    0]\n",
      " [   1   17    5    0    0    0    0 1278    1   24]\n",
      " [   5    8    7   25   11   21    2    4 1102   12]\n",
      " [   7    5    1   12   18    6    0   21    3 1214]]\n"
     ]
    }
   ],
   "source": [
    "print(confusion_matrix(y_test, y_pred))"
   ]
  }
 ],
 "metadata": {
  "kaggle": {
   "accelerator": "none",
   "dataSources": [
    {
     "datasetId": 5110999,
     "sourceId": 8552715,
     "sourceType": "datasetVersion"
    }
   ],
   "dockerImageVersionId": 30698,
   "isGpuEnabled": false,
   "isInternetEnabled": false,
   "language": "python",
   "sourceType": "notebook"
  },
  "kernelspec": {
   "display_name": "Python 3",
   "language": "python",
   "name": "python3"
  },
  "language_info": {
   "codemirror_mode": {
    "name": "ipython",
    "version": 3
   },
   "file_extension": ".py",
   "mimetype": "text/x-python",
   "name": "python",
   "nbconvert_exporter": "python",
   "pygments_lexer": "ipython3",
   "version": "3.10.13"
  },
  "papermill": {
   "default_parameters": {},
   "duration": 24.894318,
   "end_time": "2024-05-31T07:03:24.743362",
   "environment_variables": {},
   "exception": null,
   "input_path": "__notebook__.ipynb",
   "output_path": "__notebook__.ipynb",
   "parameters": {},
   "start_time": "2024-05-31T07:02:59.849044",
   "version": "2.5.0"
  }
 },
 "nbformat": 4,
 "nbformat_minor": 5
}
